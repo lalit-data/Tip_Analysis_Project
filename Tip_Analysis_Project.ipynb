{
  "nbformat": 4,
  "nbformat_minor": 0,
  "metadata": {
    "colab": {
      "provenance": []
    },
    "kernelspec": {
      "name": "python3",
      "display_name": "Python 3"
    },
    "language_info": {
      "name": "python"
    }
  },
  "cells": [
    {
      "cell_type": "code",
      "execution_count": 7,
      "metadata": {
        "id": "gpG24Z-EQgYP"
      },
      "outputs": [],
      "source": [
        "import pandas as pd\n",
        "import numpy as np"
      ]
    },
    {
      "cell_type": "code",
      "source": [],
      "metadata": {
        "id": "Sml2-K6eUfEA"
      },
      "execution_count": null,
      "outputs": []
    },
    {
      "cell_type": "markdown",
      "source": [
        "Load the built-in tips dataset from the seaborn library.\n"
      ],
      "metadata": {
        "id": "eQZisheoQxha"
      }
    },
    {
      "cell_type": "code",
      "source": [
        "import seaborn as sns\n",
        "tips = sns.load_dataset('tips')"
      ],
      "metadata": {
        "id": "beuCzfKuQ1q7"
      },
      "execution_count": 2,
      "outputs": []
    },
    {
      "cell_type": "markdown",
      "source": [
        "A look at the first few rows of the tips dataset.\n"
      ],
      "metadata": {
        "id": "vwj83IURRWWp"
      }
    },
    {
      "cell_type": "code",
      "source": [
        "print(tips.head())"
      ],
      "metadata": {
        "colab": {
          "base_uri": "https://localhost:8080/"
        },
        "id": "xbxaK5ImRcHo",
        "outputId": "f4e96940-4255-4009-b9cf-92bb0f2966fe"
      },
      "execution_count": 3,
      "outputs": [
        {
          "output_type": "stream",
          "name": "stdout",
          "text": [
            "   total_bill   tip     sex smoker  day    time  size\n",
            "0       16.99  1.01  Female     No  Sun  Dinner     2\n",
            "1       10.34  1.66    Male     No  Sun  Dinner     3\n",
            "2       21.01  3.50    Male     No  Sun  Dinner     3\n",
            "3       23.68  3.31    Male     No  Sun  Dinner     2\n",
            "4       24.59  3.61  Female     No  Sun  Dinner     4\n"
          ]
        }
      ]
    },
    {
      "cell_type": "markdown",
      "source": [
        "Missing values check in the dataset ( count of missing values in each column)."
      ],
      "metadata": {
        "id": "xNTUIsgxRzyM"
      }
    },
    {
      "cell_type": "code",
      "source": [
        "print(tips.isnull().sum())"
      ],
      "metadata": {
        "colab": {
          "base_uri": "https://localhost:8080/"
        },
        "id": "iZt9p5kSR8H1",
        "outputId": "6bcfcb83-16b1-492b-d983-dc3708a09f93"
      },
      "execution_count": 4,
      "outputs": [
        {
          "output_type": "stream",
          "name": "stdout",
          "text": [
            "total_bill    0\n",
            "tip           0\n",
            "sex           0\n",
            "smoker        0\n",
            "day           0\n",
            "time          0\n",
            "size          0\n",
            "dtype: int64\n"
          ]
        }
      ]
    },
    {
      "cell_type": "markdown",
      "source": [
        "Summary statistics for the dataset."
      ],
      "metadata": {
        "id": "R8hi-VDGSlUz"
      }
    },
    {
      "cell_type": "code",
      "source": [
        "print(tips.describe())"
      ],
      "metadata": {
        "colab": {
          "base_uri": "https://localhost:8080/"
        },
        "id": "5-oKChRKStuz",
        "outputId": "99202013-fed0-4d97-d023-89f92ec41dcc"
      },
      "execution_count": 5,
      "outputs": [
        {
          "output_type": "stream",
          "name": "stdout",
          "text": [
            "       total_bill         tip        size\n",
            "count  244.000000  244.000000  244.000000\n",
            "mean    19.785943    2.998279    2.569672\n",
            "std      8.902412    1.383638    0.951100\n",
            "min      3.070000    1.000000    1.000000\n",
            "25%     13.347500    2.000000    2.000000\n",
            "50%     17.795000    2.900000    2.000000\n",
            "75%     24.127500    3.562500    3.000000\n",
            "max     50.810000   10.000000    6.000000\n"
          ]
        }
      ]
    },
    {
      "cell_type": "markdown",
      "source": [
        "Data types of each column"
      ],
      "metadata": {
        "id": "JhvYcFH5S1Wq"
      }
    },
    {
      "cell_type": "code",
      "source": [
        "print(tips.dtypes)"
      ],
      "metadata": {
        "colab": {
          "base_uri": "https://localhost:8080/"
        },
        "id": "RMPh9Xy2TnuB",
        "outputId": "d13f41aa-cab8-438d-979a-1455f39eb4f8"
      },
      "execution_count": 6,
      "outputs": [
        {
          "output_type": "stream",
          "name": "stdout",
          "text": [
            "total_bill     float64\n",
            "tip            float64\n",
            "sex           category\n",
            "smoker        category\n",
            "day           category\n",
            "time          category\n",
            "size             int64\n",
            "dtype: object\n"
          ]
        }
      ]
    },
    {
      "cell_type": "markdown",
      "source": [
        "convert categorical variables to a suitable format.\n"
      ],
      "metadata": {
        "id": "ozNOytc6UYTF"
      }
    },
    {
      "cell_type": "code",
      "source": [
        "tips['sex'] = tips['sex'].astype('category').cat.codes\n",
        "tips['smoker'] = tips['smoker'].astype('category').cat.codes\n",
        "tips['day'] = tips['day'].astype('category').cat.codes\n",
        "tips['time'] = tips['time'].astype('category').cat.codes\n"
      ],
      "metadata": {
        "id": "K2iv-w5pUu5C"
      },
      "execution_count": 8,
      "outputs": []
    },
    {
      "cell_type": "markdown",
      "source": [
        " outliers in the total_bill and tip columns."
      ],
      "metadata": {
        "id": "vYWWAEITVGPo"
      }
    },
    {
      "cell_type": "code",
      "source": [
        "print(tips['total_bill'].describe())\n",
        "print(tips['tip'].describe())"
      ],
      "metadata": {
        "colab": {
          "base_uri": "https://localhost:8080/"
        },
        "id": "ztB3ZwrQVIQS",
        "outputId": "6614e439-4133-41d7-eb4b-cd686cc74721"
      },
      "execution_count": 9,
      "outputs": [
        {
          "output_type": "stream",
          "name": "stdout",
          "text": [
            "count    244.000000\n",
            "mean      19.785943\n",
            "std        8.902412\n",
            "min        3.070000\n",
            "25%       13.347500\n",
            "50%       17.795000\n",
            "75%       24.127500\n",
            "max       50.810000\n",
            "Name: total_bill, dtype: float64\n",
            "count    244.000000\n",
            "mean       2.998279\n",
            "std        1.383638\n",
            "min        1.000000\n",
            "25%        2.000000\n",
            "50%        2.900000\n",
            "75%        3.562500\n",
            "max       10.000000\n",
            "Name: tip, dtype: float64\n"
          ]
        }
      ]
    },
    {
      "cell_type": "code",
      "source": [
        "plt.figure(figsize=(8, 6))\n",
        "sns.boxplot(data=tips[['total_bill', 'tip']])\n",
        "plt.show()"
      ],
      "metadata": {
        "colab": {
          "base_uri": "https://localhost:8080/",
          "height": 176
        },
        "id": "DvxxMv_9VbMC",
        "outputId": "a1ab208e-c3ba-4907-9d66-58b8ad72b735"
      },
      "execution_count": 10,
      "outputs": [
        {
          "output_type": "error",
          "ename": "NameError",
          "evalue": "name 'plt' is not defined",
          "traceback": [
            "\u001b[0;31m---------------------------------------------------------------------------\u001b[0m",
            "\u001b[0;31mNameError\u001b[0m                                 Traceback (most recent call last)",
            "\u001b[0;32m/tmp/ipython-input-2695071265.py\u001b[0m in \u001b[0;36m<cell line: 0>\u001b[0;34m()\u001b[0m\n\u001b[0;32m----> 1\u001b[0;31m \u001b[0mplt\u001b[0m\u001b[0;34m.\u001b[0m\u001b[0mfigure\u001b[0m\u001b[0;34m(\u001b[0m\u001b[0mfigsize\u001b[0m\u001b[0;34m=\u001b[0m\u001b[0;34m(\u001b[0m\u001b[0;36m8\u001b[0m\u001b[0;34m,\u001b[0m \u001b[0;36m6\u001b[0m\u001b[0;34m)\u001b[0m\u001b[0;34m)\u001b[0m\u001b[0;34m\u001b[0m\u001b[0;34m\u001b[0m\u001b[0m\n\u001b[0m\u001b[1;32m      2\u001b[0m \u001b[0msns\u001b[0m\u001b[0;34m.\u001b[0m\u001b[0mboxplot\u001b[0m\u001b[0;34m(\u001b[0m\u001b[0mdata\u001b[0m\u001b[0;34m=\u001b[0m\u001b[0mtips\u001b[0m\u001b[0;34m[\u001b[0m\u001b[0;34m[\u001b[0m\u001b[0;34m'total_bill'\u001b[0m\u001b[0;34m,\u001b[0m \u001b[0;34m'tip'\u001b[0m\u001b[0;34m]\u001b[0m\u001b[0;34m]\u001b[0m\u001b[0;34m)\u001b[0m\u001b[0;34m\u001b[0m\u001b[0;34m\u001b[0m\u001b[0m\n\u001b[1;32m      3\u001b[0m \u001b[0mplt\u001b[0m\u001b[0;34m.\u001b[0m\u001b[0mshow\u001b[0m\u001b[0;34m(\u001b[0m\u001b[0;34m)\u001b[0m\u001b[0;34m\u001b[0m\u001b[0;34m\u001b[0m\u001b[0m\n",
            "\u001b[0;31mNameError\u001b[0m: name 'plt' is not defined"
          ]
        }
      ]
    },
    {
      "cell_type": "markdown",
      "source": [
        "ImportMatplotlib and run.\n"
      ],
      "metadata": {
        "id": "PpwCF4LOVrbS"
      }
    },
    {
      "cell_type": "code",
      "source": [
        "import matplotlib.pyplot as plt\n",
        "import seaborn as sns\n",
        "\n",
        "plt.figure(figsize=(8, 6))\n",
        "sns.boxplot(data=tips[['total_bill', 'tip']])\n",
        "plt.show()"
      ],
      "metadata": {
        "colab": {
          "base_uri": "https://localhost:8080/",
          "height": 522
        },
        "id": "hL_dTZmIVzWA",
        "outputId": "745d00f3-039b-4659-aed2-d4bdd62fc0fc"
      },
      "execution_count": 11,
      "outputs": [
        {
          "output_type": "display_data",
          "data": {
            "text/plain": [
              "<Figure size 800x600 with 1 Axes>"
            ],
            "image/png": "[encoded data removed]"
          },
          "metadata": {}
        }
      ]
    },
    {
      "cell_type": "markdown",
      "source": [
        "Based on boxplot, remove rows with extreme values (e.g., total bill > 50 or tip > 10)."
      ],
      "metadata": {
        "id": "0p4GI-O_WLOA"
      }
    },
    {
      "cell_type": "code",
      "source": [
        "tips = tips[(tips['total_bill'] < 50) & (tips['tip'] < 10)]\n"
      ],
      "metadata": {
        "id": "WJ721dUfWTBR"
      },
      "execution_count": 12,
      "outputs": []
    },
    {
      "cell_type": "markdown",
      "source": [
        "correlation between numerical columns."
      ],
      "metadata": {
        "id": "cQMxg1MwWn6S"
      }
    },
    {
      "cell_type": "code",
      "source": [
        "print(tips[['total_bill', 'tip', 'size']].corr())"
      ],
      "metadata": {
        "colab": {
          "base_uri": "https://localhost:8080/"
        },
        "id": "mkW1ITSeWpyY",
        "outputId": "3d2dba3a-02c9-46fe-8eb7-be46815f06cb"
      },
      "execution_count": 13,
      "outputs": [
        {
          "output_type": "stream",
          "name": "stdout",
          "text": [
            "            total_bill       tip      size\n",
            "total_bill    1.000000  0.654162  0.607489\n",
            "tip           0.654162  1.000000  0.507650\n",
            "size          0.607489  0.507650  1.000000\n"
          ]
        }
      ]
    },
    {
      "cell_type": "markdown",
      "source": [
        "correlations using a heatmap"
      ],
      "metadata": {
        "id": "vTCLXv3aW5g4"
      }
    },
    {
      "cell_type": "code",
      "source": [
        "import seaborn as sns\n",
        "import matplotlib.pyplot as plt\n",
        "\n",
        "plt.figure(figsize=(8, 6))\n",
        "sns.heatmap(tips[['total_bill', 'tip', 'size']].corr(), annot=True, cmap='coolwarm')\n",
        "plt.show()"
      ],
      "metadata": {
        "colab": {
          "base_uri": "https://localhost:8080/",
          "height": 528
        },
        "id": "g1LLAOxVW8eZ",
        "outputId": "e36bae4d-5fb1-4dd6-dbdf-bedde3f225e4"
      },
      "execution_count": 14,
      "outputs": [
        {
          "output_type": "display_data",
          "data": {
            "text/plain": [
              "<Figure size 800x600 with 2 Axes>"
            ],
            "image/png": "[encoded data removed]"
          },
          "metadata": {}
        }
      ]
    },
    {
      "cell_type": "markdown",
      "source": [
        "create a new feature: tip_percentage.\n"
      ],
      "metadata": {
        "id": "Nc-ujkr0Xady"
      }
    },
    {
      "cell_type": "code",
      "source": [
        "tips['tip_percentage'] = (tips['tip'] / tips['total_bill']) * 100"
      ],
      "metadata": {
        "id": "KM5rRWaxXcUM"
      },
      "execution_count": 15,
      "outputs": []
    },
    {
      "cell_type": "markdown",
      "source": [
        "factors affect tip percentage"
      ],
      "metadata": {
        "id": "rJjS65rJXvBx"
      }
    },
    {
      "cell_type": "code",
      "source": [
        "print(tips.groupby('sex')['tip_percentage'].mean())\n",
        "print(tips.groupby('smoker')['tip_percentage'].mean())\n",
        "print(tips.groupby('day')['tip_percentage'].mean())\n",
        "print(tips.groupby('time')['tip_percentage'].mean())"
      ],
      "metadata": {
        "colab": {
          "base_uri": "https://localhost:8080/"
        },
        "id": "EJcSsrDeXwqw",
        "outputId": "d8ba5ab9-15fd-4171-a2f3-fbee8f27cfdc"
      },
      "execution_count": 16,
      "outputs": [
        {
          "output_type": "stream",
          "name": "stdout",
          "text": [
            "sex\n",
            "0    15.739951\n",
            "1    16.649074\n",
            "Name: tip_percentage, dtype: float64\n",
            "smoker\n",
            "0    16.283066\n",
            "1    15.932846\n",
            "Name: tip_percentage, dtype: float64\n",
            "day\n",
            "0    16.127563\n",
            "1    16.991303\n",
            "2    15.264404\n",
            "3    16.689729\n",
            "Name: tip_percentage, dtype: float64\n",
            "time\n",
            "0    16.412793\n",
            "1    15.930468\n",
            "Name: tip_percentage, dtype: float64\n"
          ]
        }
      ]
    },
    {
      "cell_type": "markdown",
      "source": [
        " visualize these relationships using boxplots\n",
        ""
      ],
      "metadata": {
        "id": "yUxF2SzkYBvp"
      }
    },
    {
      "cell_type": "code",
      "source": [
        "sns.boxplot(data=tips, x='sex', y='tip_percentage')\n",
        "plt.show()\n",
        "\n",
        "sns.boxplot(data=tips, x='smoker', y='tip_percentage')\n",
        "plt.show()\n",
        "\n",
        "sns.boxplot(data=tips, x='day', y='tip_percentage')\n",
        "plt.show()\n",
        "\n",
        "sns.boxplot(data=tips, x='time', y='tip_percentage')\n",
        "plt.show()"
      ],
      "metadata": {
        "colab": {
          "base_uri": "https://localhost:8080/",
          "height": 1000
        },
        "id": "BO9dgODNYEBp",
        "outputId": "c91ee330-37ef-4a18-ac4b-97c767fc8707"
      },
      "execution_count": 17,
      "outputs": [
        {
          "output_type": "display_data",
          "data": {
            "text/plain": [
              "<Figure size 640x480 with 1 Axes>"
            ],
            "image/png": "[encoded data removed]"
          },
          "metadata": {}
        },
        {
          "output_type": "display_data",
          "data": {
            "text/plain": [
              "<Figure size 640x480 with 1 Axes>"
            ],
            "image/png": "[encoded data removed]"
          },
          "metadata": {}
        },
        {
          "output_type": "display_data",
          "data": {
            "text/plain": [
              "<Figure size 640x480 with 1 Axes>"
            ],
            "image/png": "[encoded data removed]"
          },
          "metadata": {}
        },
        {
          "output_type": "display_data",
          "data": {
            "text/plain": [
              "<Figure size 640x480 with 1 Axes>"
            ],
            "image/png": "[encoded data removed]"
          },
          "metadata": {}
        }
      ]
    },
    {
      "cell_type": "markdown",
      "source": [
        "Hypothesis Testing: \"The average tip percentage is higher for males than females.\"\n",
        "- Null hypothesis (H0): μ_male ≤ μ_female (The average tip percentage for males is less than or equal to that of females.)\n",
        "- Alternative hypothesis (H1): μ_male > μ_female (The average tip percentage for males is greater than that of females.)\n"
      ],
      "metadata": {
        "id": "KKZkEUJaZv0L"
      }
    },
    {
      "cell_type": "markdown",
      "source": [
        "Calculate the average tip percentages\n"
      ],
      "metadata": {
        "id": "CWoUZRmraFhg"
      }
    },
    {
      "cell_type": "code",
      "source": [
        "male_tips = tips[tips['sex'] == 1]['tip_percentage']\n",
        "female_tips = tips[tips['sex'] == 0]['tip_percentage']\n",
        "\n",
        "print(f\"Male average tip percentage: {male_tips.mean()}\")\n",
        "print(f\"Female average tip percentage: {female_tips.mean()}\")"
      ],
      "metadata": {
        "colab": {
          "base_uri": "https://localhost:8080/"
        },
        "id": "__3CdtdWaIDZ",
        "outputId": "18b3cf9e-46ed-443d-8539-6d0b5f2c26b1"
      },
      "execution_count": 18,
      "outputs": [
        {
          "output_type": "stream",
          "name": "stdout",
          "text": [
            "Male average tip percentage: 16.649073632892478\n",
            "Female average tip percentage: 15.739951428477525\n"
          ]
        }
      ]
    },
    {
      "cell_type": "markdown",
      "source": [
        "Perform the t-test"
      ],
      "metadata": {
        "id": "6jMDmP8haTjR"
      }
    },
    {
      "cell_type": "code",
      "source": [
        "from scipy.stats import ttest_ind\n",
        "\n",
        "t_stat, p_val = ttest_ind(male_tips, female_tips)\n",
        "\n",
        "print(f\"T-statistic: {t_stat}\")\n",
        "print(f\"P-value: {p_val}\")"
      ],
      "metadata": {
        "colab": {
          "base_uri": "https://localhost:8080/"
        },
        "id": "GpKemnWHaU7X",
        "outputId": "9ce54222-6bdd-4f6d-a2f0-5f175f56a82f"
      },
      "execution_count": 19,
      "outputs": [
        {
          "output_type": "stream",
          "name": "stdout",
          "text": [
            "T-statistic: 1.111540778622999\n",
            "P-value: 0.26744328995042516\n"
          ]
        }
      ]
    },
    {
      "cell_type": "markdown",
      "source": [
        "Since the p-value (0.267) is greater than 0.05, we fail to reject the null hypothesis.\n",
        "\n",
        "This suggests that there is no statistically significant difference in average tip percentages between males and females in the dataset.\n"
      ],
      "metadata": {
        "id": "YLRCUuG4bKbJ"
      }
    }
  ]
}